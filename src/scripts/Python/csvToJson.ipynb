{
 "cells": [
  {
   "cell_type": "code",
   "execution_count": 2,
   "metadata": {},
   "outputs": [],
   "source": [
    "import numpy as np\n",
    "import pandas as pd\n",
    "from pandas._typing import ( FilePath )\n",
    "from pandas.core.frame import DataFrame\n",
    "import simplejson as json"
   ]
  },
  {
   "cell_type": "code",
   "execution_count": 3,
   "metadata": {},
   "outputs": [],
   "source": [
    "def dataframeToJson(data:DataFrame, dir:FilePath, header:dict):\n",
    "    json_data = {\n",
    "        \"header\":header,\n",
    "        \"data\":{}\n",
    "    }\n",
    "    for column in data.columns:\n",
    "        json_data[\"data\"][column] = data[column].tolist()\n",
    "    \n",
    "    with open(dir, 'w') as f:\n",
    "        json.dump(json_data, f, ignore_nan=True)"
   ]
  },
  {
   "cell_type": "code",
   "execution_count": 4,
   "metadata": {},
   "outputs": [],
   "source": [
    "dadosMeteorologicos = {\n",
    "    \"florianopolis\":{\n",
    "        \"header\":{\n",
    "            \"REGIAO\":\"S\",\n",
    "            \"UF\":\"SC\",\n",
    "            \"ESTACAO\":\"FLORIANOPOLIS\",\n",
    "            \"CODIGO (WMO)\":\"A806\",\n",
    "            \"LATITUDE\":-27.60253,\n",
    "            \"LONGITUDE\":-48.620096,\n",
    "            \"ALTITUDE\":4.87,\n",
    "            \"DATA DE FUNDACAO\":\"22/01/03\"\n",
    "        },\n",
    "        \"data\":\n",
    "            pd.read_csv(\"./../../../data/dadosMeteorologicos/INMET_S_SC_A806_FLORIANOPOLIS_01-01-2022_A_31-12-2022.CSV\", sep=\";\", header=8, thousands = '.', decimal = ',')\n",
    "    },\n",
    "    \"brasilia\":{\n",
    "        \"header\":{\n",
    "            \"REGIAO\":\"CO\",\n",
    "            \"UF\":\"DF\",\n",
    "            \"ESTACAO\":\"BRASILIA\",\n",
    "            \"CODIGO (WMO)\":\"A001\",\n",
    "            \"LATITUDE\":-15.78944444,\n",
    "            \"LONGITUDE\":-47.92583332,\n",
    "            \"ALTITUDE\":1160.96,\n",
    "            \"DATA DE FUNDACAO\":\"07/05/00\"\n",
    "        },\n",
    "        \"data\":\n",
    "            pd.read_csv(\"./../../../data/dadosMeteorologicos/INMET_CO_DF_A001_BRASILIA_01-01-2022_A_31-12-2022.CSV\",encoding='latin-1', sep=\";\", header=8, thousands = '.', decimal = ',')\n",
    "    },\n",
    "    \"macapa\":{\n",
    "        \"header\":{\n",
    "            \"REGIAO\":\"N\",\n",
    "            \"UF\":\"AP\",\n",
    "            \"ESTACAO\":\"MACAPA\",\n",
    "            \"CODIGO (WMO)\":\"A249\",\n",
    "            \"LATITUDE\":.03499999,\n",
    "            \"LONGITUDE\":-51.08888888,\n",
    "            \"ALTITUDE\":16.62,\n",
    "            \"DATA DE FUNDACAO\":\"12/12/13\"\n",
    "        },\n",
    "        \"data\":\n",
    "            pd.read_csv(\"./../../../data/dadosMeteorologicos/INMET_N_AP_A249_MACAPA_01-01-2022_A_31-12-2022.CSV\",encoding='latin-1', sep=\";\", header=8, thousands = '.', decimal = ',')\n",
    "    }\n",
    "}\n",
    "\n",
    "for city in dadosMeteorologicos:\n",
    "    dadosMeteorologicos[city][\"data\"].drop(columns=[\"Unnamed: 19\"], inplace=True)\n",
    "    dataframeToJson(dadosMeteorologicos[city][\"data\"], f\"../../assets/data/dadosMeteorologicos_{city}.json\", dadosMeteorologicos[city][\"header\"])"
   ]
  }
 ],
 "metadata": {
  "kernelspec": {
   "display_name": "Python 3",
   "language": "python",
   "name": "python3"
  },
  "language_info": {
   "codemirror_mode": {
    "name": "ipython",
    "version": 3
   },
   "file_extension": ".py",
   "mimetype": "text/x-python",
   "name": "python",
   "nbconvert_exporter": "python",
   "pygments_lexer": "ipython3",
   "version": "3.11.5"
  }
 },
 "nbformat": 4,
 "nbformat_minor": 2
}
